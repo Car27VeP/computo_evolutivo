{
 "cells": [
  {
   "cell_type": "markdown",
   "metadata": {},
   "source": [
    "# Caso de estudio 1. Optimización de una caja."
   ]
  },
  {
   "cell_type": "markdown",
   "metadata": {},
   "source": [
    "### **Librearías**"
   ]
  },
  {
   "cell_type": "code",
   "execution_count": 34,
   "metadata": {},
   "outputs": [],
   "source": [
    "import numpy as np\n",
    "import pandas as pd"
   ]
  },
  {
   "cell_type": "markdown",
   "metadata": {},
   "source": [
    "## **Poblacion**"
   ]
  },
  {
   "cell_type": "code",
   "execution_count": 35,
   "metadata": {},
   "outputs": [],
   "source": [
    "# Lista de cadenas binarias\n",
    "binarios = ['101010111', '011011001', '110000110', '001010100']\n",
    "\n",
    "# Convertir cada cadena binaria en una lista de enteros\n",
    "poblacion = np.array([list(map(int, list(b))) for b in binarios])"
   ]
  },
  {
   "cell_type": "code",
   "execution_count": 36,
   "metadata": {},
   "outputs": [
    {
     "data": {
      "text/plain": [
       "array([[1, 0, 1, 0, 1, 0, 1, 1, 1],\n",
       "       [0, 1, 1, 0, 1, 1, 0, 0, 1],\n",
       "       [1, 1, 0, 0, 0, 0, 1, 1, 0],\n",
       "       [0, 0, 1, 0, 1, 0, 1, 0, 0]])"
      ]
     },
     "execution_count": 36,
     "metadata": {},
     "output_type": "execute_result"
    }
   ],
   "source": [
    "poblacion"
   ]
  },
  {
   "cell_type": "markdown",
   "metadata": {},
   "source": [
    "## **Decodificación de Cromosomas**"
   ]
  },
  {
   "cell_type": "markdown",
   "metadata": {},
   "source": [
    "Cada cromosoma binario es decodificado en valores decimales que representan las dimensiones `l` (longitud), `w` (ancho), y `h` (altura) de la caja. La función `bin2dec` convierte un segmento binario en un valor decimal dentro de un rango definido, y `decodificar_cromosoma` aplica esta conversión a las tres dimensiones.\n",
    "\n",
    "Fórmula de decodificación:\n",
    "\n",
    "$$\n",
    "x = L + \\frac{\\text{valor decimal}}{2^{n}-1} * (U - L)\n",
    "$$\n",
    "\n",
    "Donde:\n",
    "$U$ es el valor superior del rango.\n",
    "\n",
    "$L$ el valor inferior del rango.\n",
    "\n",
    "$n$ el numero de bits (genes)."
   ]
  },
  {
   "cell_type": "code",
   "execution_count": 37,
   "metadata": {},
   "outputs": [],
   "source": [
    "def bin2dec(cadena, _min, _max):\n",
    "    \"\"\"Convierte un segmento binario en un valor decimal dentro de un rango definido.\n",
    "\n",
    "    Args:\n",
    "        cadena (np.array): Cromosoma de n poblaciones.\n",
    "        _min (int): Valor mínimo del rango.\n",
    "        _max (int): Valor máximo del rango.\n",
    "\n",
    "    Returns:\n",
    "        _type_: _description_\n",
    "    \"\"\"\n",
    "    longitud = len(cadena)\n",
    "    valor_posicional = np.asarray([2**i for i in range(longitud)])[::-1]\n",
    "    valor_decimal = cadena.dot(valor_posicional)\n",
    "    max_binario = (2 ** longitud) - 1\n",
    "    return _min + (valor_decimal / max_binario) * (_max - _min)\n",
    "\n",
    "def decodificar_cromosoma(cromosoma, _min, _max):\n",
    "    \"\"\"Aplica la conversión don2dec a las tres dimensiones.\n",
    "\n",
    "    Args:\n",
    "        cromosoma (_type_): _description_\n",
    "        _min (int): Valor mínimo del rango.\n",
    "        _max (int): Valor máximo del rango.\n",
    "\n",
    "    Returns:\n",
    "        np.array: np.array([])\n",
    "    \"\"\"\n",
    "    longitud = len(cromosoma) // 3\n",
    "    l = bin2dec(cromosoma[:longitud], _min, _max)\n",
    "    w = bin2dec(cromosoma[longitud:2*longitud], _min, _max)\n",
    "    h = bin2dec(cromosoma[2*longitud:], _min, _max)\n",
    "    return np.array([l, w, h])"
   ]
  },
  {
   "cell_type": "markdown",
   "metadata": {},
   "source": [
    "## **Función de Aptitud**\n",
    "La aptitud de un cromosoma se calcula como el volumen de la caja, pero con una penalización si el área superficial excede un límite (20 en este caso)."
   ]
  },
  {
   "cell_type": "code",
   "execution_count": 38,
   "metadata": {},
   "outputs": [],
   "source": [
    "def funcion_aptitud(l, w, h):\n",
    "    \"\"\"Función de aptitud\n",
    "\n",
    "    Args:\n",
    "        l, w y h se obtienen de la función decodificador_cromosoma\n",
    "\n",
    "    Returns:\n",
    "        _type_: _description_\n",
    "    \"\"\"\n",
    "    volumen = l * w * h\n",
    "    area = 2 * (l * w + l * h + w * h)\n",
    "    if area < 20:\n",
    "        return 0  # Penalización si no se cumple la restricción\n",
    "    return volumen"
   ]
  },
  {
   "cell_type": "markdown",
   "metadata": {},
   "source": [
    "## **Selección de padres por Ruleta**"
   ]
  },
  {
   "cell_type": "code",
   "execution_count": 39,
   "metadata": {},
   "outputs": [],
   "source": [
    "# Selección de padres\n",
    "def seleccion(poblacion, aptitudes):\n",
    "    total_aptitud = np.sum(aptitudes)\n",
    "\n",
    "    # Evitar división por cero si todas las aptitudes son cero\n",
    "    if total_aptitud == 0:\n",
    "        probabilidades = np.ones(len(poblacion)) / len(poblacion)\n",
    "    else:\n",
    "        probabilidades = aptitudes / total_aptitud\n",
    "\n",
    "    # Selecciona dos individuos con probabilidad proporcional a su aptitud\n",
    "    indices = np.random.choice(len(poblacion), size=2, p=probabilidades)\n",
    "    return [poblacion[i] for i in indices] # Return a list of selected individuals"
   ]
  },
  {
   "cell_type": "markdown",
   "metadata": {},
   "source": [
    "## **Cruce de puntos**"
   ]
  },
  {
   "cell_type": "code",
   "execution_count": 46,
   "metadata": {},
   "outputs": [],
   "source": [
    "def cruce(padre1, padre2,longitud_cromosomas,cruce_prob):\n",
    "    \"\"\"Fusiona información de dos genotipos parentales en uno o dos genotipos descendientes dependiendo de su probaliidad.\n",
    "\n",
    "    Args:\n",
    "        padre1 (float): Genotipo del padre 1.\n",
    "        padre2 (float): Genotipo del padre 2.\n",
    "\n",
    "    Returns:\n",
    "        tuple: (hijo1, hijo2)\n",
    "    \"\"\"\n",
    "    if np.random.rand() < cruce_prob:\n",
    "        punto_cruce = np.random.randint(1, longitud_cromosomas)\n",
    "        hijo1 = np.concatenate((padre1[:punto_cruce], padre2[punto_cruce:]))\n",
    "        hijo2 = np.concatenate((padre2[:punto_cruce], padre1[punto_cruce:]))\n",
    "        return hijo1, hijo2\n",
    "    else:\n",
    "        return padre1, padre2"
   ]
  },
  {
   "cell_type": "markdown",
   "metadata": {},
   "source": [
    "## **Mutación**"
   ]
  },
  {
   "cell_type": "code",
   "execution_count": 41,
   "metadata": {},
   "outputs": [],
   "source": [
    "def mutacion_un_bit(individuo):\n",
    "    \"\"\"Se aplica a un genotipo y entraga un mutante.\n",
    "\n",
    "    Args:\n",
    "        individuo (numpy): Cromosoma del individuo a cambiar,\n",
    "\n",
    "    Returns:\n",
    "        numpy.array: numpy.array(mutacion_individuo)\n",
    "    \"\"\"\n",
    "    bit_a_mutar = np.random.randint(len(individuo))\n",
    "    individuo[bit_a_mutar] = 1 - individuo[bit_a_mutar]\n",
    "    return individuo"
   ]
  },
  {
   "cell_type": "markdown",
   "metadata": {},
   "source": [
    "## Reemplazo Elitista"
   ]
  },
  {
   "cell_type": "code",
   "execution_count": 42,
   "metadata": {},
   "outputs": [],
   "source": [
    "def reemplazo_elitista(poblacion, nueva_poblacion, num_elites):\n",
    "    \"\"\"El reemplazo elitista asegura que los \n",
    "       mejores individuos de la población actual se preserven para la siguiente generación.\n",
    "\n",
    "    Args:\n",
    "        poblacion (np.array(n*m)): Población\n",
    "        poblacion (np.array(n*m)): Nueva población\n",
    "        num_elites (int): tamaño del grupo élite.\n",
    "\n",
    "    Returns:\n",
    "        _type_: _description_\n",
    "    \"\"\"\n",
    "    poblacion_ordenada = sorted(poblacion, key=lambda ind: funcion_aptitud(*decodificar_cromosoma(ind, 0, 5)), reverse=True)\n",
    "    nueva_poblacion_ordenada = sorted(nueva_poblacion, key=lambda ind: funcion_aptitud(*decodificar_cromosoma(ind, 0, 5)), reverse=True)\n",
    "    elitistas = poblacion_ordenada[:num_elites]\n",
    "    nueva_poblacion_reemplazada = elitistas + nueva_poblacion_ordenada[:len(poblacion) - num_elites]\n",
    "    return np.array(nueva_poblacion_reemplazada)"
   ]
  },
  {
   "cell_type": "markdown",
   "metadata": {},
   "source": [
    "## **Algoritmo Genético**"
   ]
  },
  {
   "cell_type": "code",
   "execution_count": 588,
   "metadata": {},
   "outputs": [],
   "source": [
    "# def algoritmo_genetico(poblacion,longitud_cromosomas = 9, \n",
    "#                        generaciones = 100, num_elites = 10, cruce_prob=.07):\n",
    "    \n",
    "#     for generacion in range(generaciones): # TODO Iteración de n generaciones\n",
    "        \n",
    "#         nueva_poblacion = []\n",
    "        \n",
    "#         aptitudes = [np.array(funcion_aptitud(*decodificar_cromosoma(cromosoma,0,5))) for cromosoma in poblacion]\n",
    "        \n",
    "#         #print(f\"Generacion: {generacion+1}\")\n",
    "#         for _ in range(poblacion_size // 2):\n",
    "#             padre1, padre2 = seleccion(poblacion,aptitudes)\n",
    "#             hijo1, hijo2 = cruce(padre1,padre2,\n",
    "#                                  longitud_cromosomas=longitud_cromosomas,\n",
    "#                                  cruce_prob=cruce_prob)\n",
    "#             nueva_poblacion.append(mutacion_un_bit(hijo1))\n",
    "#             nueva_poblacion.append(mutacion_un_bit(hijo2))\n",
    "        \n",
    "#         mejor_individuo = poblacion[np.argmax([funcion_aptitud(*decodificar_cromosoma(cromosoma,0,5)) for cromosoma in poblacion])]\n",
    "#         mejor_aptitud = funcion_aptitud(*decodificar_cromosoma(mejor_individuo,0,5))\n",
    "        \n",
    "#         print(f'Generación {generacion + 1}: Mejor aptitud = {mejor_aptitud} Mejor individuo = {mejor_individuo}')\n",
    "        \n",
    "#         # Reemplazo Elitista.\n",
    "#         poblacion = reemplazo_elitista(poblacion, nueva_poblacion, num_elites)  \n",
    "        \n",
    "#     return mejor_individuo"
   ]
  },
  {
   "cell_type": "code",
   "execution_count": 64,
   "metadata": {},
   "outputs": [],
   "source": [
    "def algoritmo_genetico(poblacion,longitud_cromosomas = 9, num_elites = 10, cruce_prob=0.7):\n",
    "    \n",
    "    nueva_poblacion = []\n",
    "        \n",
    "    aptitudes = [np.array(funcion_aptitud(*decodificar_cromosoma(cromosoma,0,5))) for cromosoma in poblacion]\n",
    "        \n",
    "    #print(f\"Generacion: {generacion+1}\")\n",
    "    for _ in range(len(poblacion) // 2):\n",
    "        padre1, padre2 = seleccion(poblacion,aptitudes)\n",
    "        hijo1, hijo2 = cruce(padre1,padre2,\n",
    "                             longitud_cromosomas=longitud_cromosomas,cruce_prob=cruce_prob)\n",
    "        nueva_poblacion.append(mutacion_un_bit(hijo1))\n",
    "        nueva_poblacion.append(mutacion_un_bit(hijo2))\n",
    "        \n",
    "        mejor_individuo = poblacion[np.argmax([funcion_aptitud(*decodificar_cromosoma(cromosoma,0,5)) for cromosoma in poblacion])]\n",
    "        mejor_aptitud = funcion_aptitud(*decodificar_cromosoma(mejor_individuo,0,5))\n",
    "\n",
    "        # Reemplazo Elitista.\n",
    "        poblacion = reemplazo_elitista(poblacion, nueva_poblacion, num_elites)  \n",
    "        \n",
    "    return mejor_individuo, mejor_aptitud"
   ]
  },
  {
   "cell_type": "code",
   "execution_count": 65,
   "metadata": {},
   "outputs": [
    {
     "data": {
      "text/plain": [
       "(array([1, 0, 1, 0, 1, 0, 1, 1, 1]), 25.51020408163265)"
      ]
     },
     "execution_count": 65,
     "metadata": {},
     "output_type": "execute_result"
    }
   ],
   "source": [
    "algoritmo_genetico(poblacion)"
   ]
  },
  {
   "cell_type": "code",
   "execution_count": 67,
   "metadata": {},
   "outputs": [
    {
     "name": "stdout",
     "output_type": "stream",
     "text": [
      "La mejor solucion para optimizar la caja es: [5.         1.42857143 4.28571429]\n"
     ]
    }
   ],
   "source": [
    "print(f\"La mejor solucion para optimizar la caja es: {decodificar_cromosoma(algoritmo_genetico(poblacion)[0],0,5)}\")"
   ]
  },
  {
   "cell_type": "code",
   "execution_count": null,
   "metadata": {},
   "outputs": [],
   "source": []
  }
 ],
 "metadata": {
  "kernelspec": {
   "display_name": "Python 3",
   "language": "python",
   "name": "python3"
  },
  "language_info": {
   "codemirror_mode": {
    "name": "ipython",
    "version": 3
   },
   "file_extension": ".py",
   "mimetype": "text/x-python",
   "name": "python",
   "nbconvert_exporter": "python",
   "pygments_lexer": "ipython3",
   "version": "3.11.8"
  }
 },
 "nbformat": 4,
 "nbformat_minor": 2
}
