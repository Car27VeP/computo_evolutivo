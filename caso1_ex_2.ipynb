{
 "cells": [
  {
   "cell_type": "markdown",
   "metadata": {},
   "source": [
    "# Caso de estudio 1. Optimización de una caja."
   ]
  },
  {
   "cell_type": "markdown",
   "metadata": {},
   "source": [
    "### **Librearías**"
   ]
  },
  {
   "cell_type": "code",
   "execution_count": 11,
   "metadata": {},
   "outputs": [],
   "source": [
    "import numpy as np\n",
    "import pandas as pd"
   ]
  },
  {
   "cell_type": "markdown",
   "metadata": {},
   "source": [
    "## **Generar poblacion Incial**"
   ]
  },
  {
   "cell_type": "code",
   "execution_count": 276,
   "metadata": {},
   "outputs": [],
   "source": [
    "def generar_poblacion(n, l=9):\n",
    "    \"\"\"Crea una población inicial de crmosomas binrarios.\n",
    "\n",
    "    Args:\n",
    "        n (int): número de individuos en la población,\n",
    "        l (int): Longitud de cada cromosoma. Default l = 9\n",
    "\n",
    "    Returns:\n",
    "        np.array(): Matriz n x l\n",
    "    \"\"\"\n",
    "    return np.random.randint(2, size=(n, l))"
   ]
  },
  {
   "cell_type": "markdown",
   "metadata": {},
   "source": [
    "## **Decodificación de Cromosomas**"
   ]
  },
  {
   "cell_type": "markdown",
   "metadata": {},
   "source": [
    "Cada cromosoma binario es decodificado en valores decimales que representan las dimensiones `l` (longitud), `w` (ancho), y `h` (altura) de la caja. La función `bin2dec` convierte un segmento binario en un valor decimal dentro de un rango definido, y `decodificar_cromosoma` aplica esta conversión a las tres dimensiones.\n",
    "\n",
    "Fórmula de decodificación:\n",
    "\n",
    "$$\n",
    "x = L + \\frac{\\text{valor decimal}}{2^{n}-1} * (U - L)\n",
    "$$\n",
    "\n",
    "Donde:\n",
    "$U$ es el valor superior del rango.\n",
    "\n",
    "$L$ el valor inferior del rango.\n",
    "\n",
    "$n$ el numero de bits (genes)."
   ]
  },
  {
   "cell_type": "code",
   "execution_count": 283,
   "metadata": {},
   "outputs": [],
   "source": [
    "def bin2dec(cadena, _min, _max):\n",
    "    \"\"\"Convierte un segmento binario en un valor decimal dentro de un rango definido.\n",
    "\n",
    "    Args:\n",
    "        cadena (np.array): Cromosoma de n poblaciones.\n",
    "        _min (int): Valor mínimo del rango.\n",
    "        _max (int): Valor máximo del rango.\n",
    "\n",
    "    Returns:\n",
    "        _type_: _description_\n",
    "    \"\"\"\n",
    "    longitud = len(cadena)\n",
    "    valor_posicional = np.asarray([2**i for i in range(longitud)])[::-1]\n",
    "    valor_decimal = cadena.dot(valor_posicional)\n",
    "    max_binario = (2 ** longitud) - 1\n",
    "    return _min + (valor_decimal / max_binario) * (_max - _min)\n",
    "\n",
    "def decodificar_cromosoma(cromosoma, _min, _max):\n",
    "    \"\"\"Aplica la conversión don2dec a las tres dimensiones.\n",
    "\n",
    "    Args:\n",
    "        cromosoma (_type_): _description_\n",
    "        _min (int): Valor mínimo del rango.\n",
    "        _max (int): Valor máximo del rango.\n",
    "\n",
    "    Returns:\n",
    "        np.array: np.array([])\n",
    "    \"\"\"\n",
    "    longitud = len(cromosoma) // 3\n",
    "    l = bin2dec(cromosoma[:longitud], _min, _max)\n",
    "    w = bin2dec(cromosoma[longitud:2*longitud], _min, _max)\n",
    "    h = bin2dec(cromosoma[2*longitud:], _min, _max)\n",
    "    return np.array([l, w, h])"
   ]
  },
  {
   "cell_type": "markdown",
   "metadata": {},
   "source": [
    "## **Función de Aptitud**\n",
    "La aptitud de un cromosoma se calcula como el volumen de la caja, pero con una penalización si el área superficial excede un límite (20 en este caso)."
   ]
  },
  {
   "cell_type": "code",
   "execution_count": 452,
   "metadata": {},
   "outputs": [],
   "source": [
    "def funcion_aptitud(l, w, h):\n",
    "    \"\"\"Función de aptitud\n",
    "\n",
    "    Args:\n",
    "        l, w y h se obtienen de la función decodificador_cromosoma\n",
    "\n",
    "    Returns:\n",
    "        _type_: _description_\n",
    "    \"\"\"\n",
    "    volumen = l * w * h\n",
    "    area = 2 * (l * w + l * h + w * h)\n",
    "    if area < 20:\n",
    "        return 0  # Penalización si no se cumple la restricción\n",
    "    return volumen"
   ]
  },
  {
   "cell_type": "markdown",
   "metadata": {},
   "source": [
    "## **Selección de padres por Ruleta**"
   ]
  },
  {
   "cell_type": "code",
   "execution_count": 440,
   "metadata": {},
   "outputs": [],
   "source": [
    "# Selección de padres\n",
    "def seleccion(poblacion, aptitudes):\n",
    "    total_aptitud = np.sum(aptitudes)\n",
    "\n",
    "    # Evitar división por cero si todas las aptitudes son cero\n",
    "    if total_aptitud == 0:\n",
    "        probabilidades = np.ones(len(poblacion)) / len(poblacion)\n",
    "    else:\n",
    "        probabilidades = aptitudes / total_aptitud\n",
    "\n",
    "    # Selecciona dos individuos con probabilidad proporcional a su aptitud\n",
    "    indices = np.random.choice(len(poblacion), size=2, p=probabilidades)\n",
    "    return [poblacion[i] for i in indices] # Return a list of selected individuals"
   ]
  },
  {
   "cell_type": "markdown",
   "metadata": {},
   "source": [
    "## **Cruce de puntos**"
   ]
  },
  {
   "cell_type": "code",
   "execution_count": 544,
   "metadata": {},
   "outputs": [],
   "source": [
    "def cruce(padre1, padre2,longitud_cromosomas,cruce_prob):\n",
    "    \"\"\"Fusiona información de dos genotipos parentales en uno o dos genotipos descendientes dependiendo de su probaliidad.\n",
    "\n",
    "    Args:\n",
    "        padre1 (float): Genotipo del padre 1.\n",
    "        padre2 (float): Genotipo del padre 2.\n",
    "\n",
    "    Returns:\n",
    "        tuple: (hijo1, hijo2)\n",
    "    \"\"\"\n",
    "    if np.random.rand() < cruce_prob:\n",
    "        punto_cruce = np.random.randint(1, longitud_cromosoma)\n",
    "        hijo1 = np.concatenate((padre1[:punto_cruce], padre2[punto_cruce:]))\n",
    "        hijo2 = np.concatenate((padre2[:punto_cruce], padre1[punto_cruce:]))\n",
    "        return hijo1, hijo2\n",
    "    else:\n",
    "        return padre1, padre2"
   ]
  },
  {
   "cell_type": "markdown",
   "metadata": {},
   "source": [
    "## **Mutación**"
   ]
  },
  {
   "cell_type": "code",
   "execution_count": 563,
   "metadata": {},
   "outputs": [],
   "source": [
    "def mutacion_un_bit(individuo):\n",
    "    \"\"\"Se aplica a un genotipo y entraga un mutante.\n",
    "\n",
    "    Args:\n",
    "        individuo (numpy): Cromosoma del individuo a cambiar,\n",
    "\n",
    "    Returns:\n",
    "        numpy.array: numpy.array(mutacion_individuo)\n",
    "    \"\"\"\n",
    "    bit_a_mutar = np.random.randint(len(individuo))\n",
    "    individuo[bit_a_mutar] = 1 - individuo[bit_a_mutar]\n",
    "    return individuo"
   ]
  },
  {
   "cell_type": "markdown",
   "metadata": {},
   "source": [
    "## Reemplazo Elitista"
   ]
  },
  {
   "cell_type": "code",
   "execution_count": 564,
   "metadata": {},
   "outputs": [],
   "source": [
    "def reemplazo_elitista(poblacion, nueva_poblacion, num_elites):\n",
    "    \"\"\"El reemplazo elitista asegura que los \n",
    "       mejores individuos de la población actual se preserven para la siguiente generación.\n",
    "\n",
    "    Args:\n",
    "        poblacion (np.array(n*m)): Población\n",
    "        poblacion (np.array(n*m)): Nueva población\n",
    "        num_elites (int): tamaño del grupo élite.\n",
    "\n",
    "    Returns:\n",
    "        _type_: _description_\n",
    "    \"\"\"\n",
    "    poblacion_ordenada = sorted(poblacion, key=lambda ind: funcion_aptitud(*decodificar_cromosoma(ind, 0, 5)), reverse=True)\n",
    "    nueva_poblacion_ordenada = sorted(nueva_poblacion, key=lambda ind: funcion_aptitud(*decodificar_cromosoma(ind, 0, 5)), reverse=True)\n",
    "    elitistas = poblacion_ordenada[:num_elites]\n",
    "    nueva_poblacion_reemplazada = elitistas + nueva_poblacion_ordenada[:len(poblacion) - num_elites]\n",
    "    return np.array(nueva_poblacion_reemplazada)"
   ]
  },
  {
   "cell_type": "markdown",
   "metadata": {},
   "source": [
    "## **Algoritmo Genético**"
   ]
  },
  {
   "cell_type": "code",
   "execution_count": 588,
   "metadata": {},
   "outputs": [],
   "source": [
    "def algoritmo_genetico(poblacion_size = 20, longitud_cromosomas = 9, \n",
    "                       generaciones = 100, num_elites = 10, cruce_prob=.07):\n",
    "    \n",
    "    poblacion = generar_poblacion(poblacion_size,l=longitud_cromosomas) # TODO Crear una población.\n",
    "\n",
    "    \n",
    "    for generacion in range(generaciones): # TODO Iteración de n generaciones\n",
    "        \n",
    "        nueva_poblacion = []\n",
    "        \n",
    "        aptitudes = [np.array(funcion_aptitud(*decodificar_cromosoma(cromosoma,0,5))) for cromosoma in poblacion]\n",
    "        \n",
    "        #print(f\"Generacion: {generacion+1}\")\n",
    "        for _ in range(poblacion_size // 2):\n",
    "            padre1, padre2 = seleccion(poblacion,aptitudes)\n",
    "            hijo1, hijo2 = cruce(padre1,padre2,\n",
    "                                 longitud_cromosomas=longitud_cromosomas,\n",
    "                                 cruce_prob=cruce_prob)\n",
    "            nueva_poblacion.append(mutacion_un_bit(hijo1))\n",
    "            nueva_poblacion.append(mutacion_un_bit(hijo2))\n",
    "        \n",
    "        mejor_individuo = poblacion[np.argmax([funcion_aptitud(*decodificar_cromosoma(cromosoma,0,5)) for cromosoma in poblacion])]\n",
    "        mejor_aptitud = funcion_aptitud(*decodificar_cromosoma(mejor_individuo,0,5))\n",
    "        \n",
    "        print(f'Generación {generacion + 1}: Mejor aptitud = {mejor_aptitud} Mejor individuo = {mejor_individuo}')\n",
    "        \n",
    "        # Reemplazo Elitista.\n",
    "        poblacion = reemplazo_elitista(poblacion, nueva_poblacion, num_elites)  \n",
    "        \n",
    "    return mejor_individuo"
   ]
  },
  {
   "cell_type": "code",
   "execution_count": 594,
   "metadata": {},
   "outputs": [
    {
     "name": "stdout",
     "output_type": "stream",
     "text": [
      "Generación 1: Mejor aptitud = 92.40035883634499 Mejor individuo = [1 1 0 0 1 1 1 0 1 1 1 0 1 1 1 0 1 1 1 1 1 0 1 0]\n",
      "Generación 2: Mejor aptitud = 95.15570934256054 Mejor individuo = [1 1 0 0 0 1 1 0 1 1 1 1 1 1 1 1 1 1 1 1 1 0 1 0]\n",
      "Generación 3: Mejor aptitud = 106.75381263616559 Mejor individuo = [1 1 1 0 1 1 1 0 1 1 1 0 1 1 1 0 1 1 1 1 1 0 1 0]\n",
      "Generación 4: Mejor aptitud = 113.93053953607587 Mejor individuo = [1 1 1 0 1 1 1 0 1 1 1 1 1 1 1 0 1 1 1 1 1 0 1 0]\n",
      "Generación 5: Mejor aptitud = 113.93053953607587 Mejor individuo = [1 1 1 0 1 1 1 0 1 1 1 1 1 1 1 0 1 1 1 1 1 0 1 0]\n",
      "Generación 6: Mejor aptitud = 116.81231200669424 Mejor individuo = [1 1 1 1 0 1 0 1 1 1 1 1 1 0 0 1 1 1 1 1 1 1 1 0]\n",
      "Generación 7: Mejor aptitud = 115.7534281686531 Mejor individuo = [1 1 1 0 1 1 1 0 1 1 1 1 1 1 1 0 1 1 1 1 1 1 1 0]\n",
      "Generación 8: Mejor aptitud = 120.63233597937445 Mejor individuo = [1 1 1 1 1 1 0 0 1 1 1 1 1 1 1 0 1 1 1 1 1 0 1 0]\n",
      "Generación 9: Mejor aptitud = 120.63233597937445 Mejor individuo = [1 1 1 1 1 1 0 0 1 1 1 1 1 1 1 0 1 1 1 1 1 0 1 0]\n",
      "Generación 10: Mejor aptitud = 120.63233597937445 Mejor individuo = [1 1 1 1 1 1 0 0 1 1 1 1 1 1 1 0 1 1 1 1 1 0 1 0]\n",
      "Generación 11: Mejor aptitud = 121.11486532329194 Mejor individuo = [1 1 1 1 1 1 0 0 1 1 1 1 1 1 1 0 1 1 1 1 1 0 1 1]\n",
      "Generación 12: Mejor aptitud = 121.11486532329194 Mejor individuo = [1 1 1 1 1 1 0 0 1 1 1 1 1 1 1 0 1 1 1 1 1 0 1 1]\n",
      "Generación 13: Mejor aptitud = 121.11486532329194 Mejor individuo = [1 1 1 1 1 1 0 0 1 1 1 1 1 1 1 0 1 1 1 1 1 0 1 1]\n",
      "Generación 14: Mejor aptitud = 121.11486532329194 Mejor individuo = [1 1 1 1 1 1 0 0 1 1 1 1 1 1 1 0 1 1 1 1 1 0 1 1]\n",
      "Generación 15: Mejor aptitud = 121.11486532329194 Mejor individuo = [1 1 1 1 1 1 0 0 1 1 1 1 1 1 1 0 1 1 1 1 1 0 1 1]\n",
      "Generación 16: Mejor aptitud = 121.59547986822564 Mejor individuo = [1 1 1 1 1 1 0 1 1 1 1 1 1 1 1 0 1 1 1 1 1 0 1 1]\n",
      "Generación 17: Mejor aptitud = 121.59547986822564 Mejor individuo = [1 1 1 1 1 1 0 1 1 1 1 1 1 1 1 0 1 1 1 1 1 0 1 1]\n"
     ]
    }
   ],
   "source": [
    "mejor_individuo = algoritmo_genetico(poblacion_size=100,longitud_cromosomas=24,generaciones=17,num_elites=5,cruce_prob=0.7)"
   ]
  },
  {
   "cell_type": "code",
   "execution_count": 598,
   "metadata": {},
   "outputs": [
    {
     "name": "stdout",
     "output_type": "stream",
     "text": [
      "La mejor solucion para optimizar la caja es: [4.96078431 4.98039216 4.92156863]\n"
     ]
    }
   ],
   "source": [
    "print(f\"La mejor solucion para optimizar la caja es: {decodificar_cromosoma(mejor_individuo,0,5)}\")"
   ]
  },
  {
   "cell_type": "code",
   "execution_count": null,
   "metadata": {},
   "outputs": [],
   "source": []
  }
 ],
 "metadata": {
  "kernelspec": {
   "display_name": "Python 3",
   "language": "python",
   "name": "python3"
  },
  "language_info": {
   "codemirror_mode": {
    "name": "ipython",
    "version": 3
   },
   "file_extension": ".py",
   "mimetype": "text/x-python",
   "name": "python",
   "nbconvert_exporter": "python",
   "pygments_lexer": "ipython3",
   "version": "3.11.8"
  }
 },
 "nbformat": 4,
 "nbformat_minor": 2
}
