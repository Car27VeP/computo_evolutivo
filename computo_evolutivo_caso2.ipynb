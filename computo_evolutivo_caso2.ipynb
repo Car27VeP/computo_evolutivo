{
  "cells": [
    {
      "cell_type": "markdown",
      "metadata": {
        "id": "Kk6qcr8t9Wri"
      },
      "source": [
        "# Caso de estudio 2: optimización de la composición de una barra nutricional\n",
        "\n",
        "- Queremos formular una barra nutricional con una mezcla específica de ingredientes para cumplir con ciertos requisitos nutricionales, mientras se mantiene dentro de un presupuesto.\n",
        "- Cada ingrediente tiene un costo por unidad y contribuye a la barra con una cantidad específica de nutrientes.\n",
        "\n",
        "## Datos de ingredientes\n",
        "\n",
        "| Ingrediente           | Costo por gramo | Proteínas (g/100g) | Carbohidratos (g/100g) | Grasas (g/100g) | Calorías (kcal/100g) |\n",
        "|---------------------------|---------------------|------------------------|----------------------------|---------------------|--------------------------|\n",
        "| **Proteína de Suero**         | \\$0.10               | 80                     | 5                          | 2                   | 350                      |\n",
        "| **Avena**                 | \\$0.02               | 15                     | 60                         | 6                   | 370                      |\n",
        "| **Mantequilla de Almendra**| \\$0.15               | 25                     | 20                         | 50                  | 600                      |\n",
        "| **Azúcar**                | $0.01               | 0                      | 100                        | 0                   | 400                      |\n",
        "\n",
        "## Rangos\n",
        "\n",
        "| **Ingrediente**           | **Rango de Cantidad (gramos)** |\n",
        "|---------------------------|-------------------------------|\n",
        "| **Proteína de Suero**     | 10 - 50                       |\n",
        "| **Avena**                 | 20 - 100                      |\n",
        "| **Mantequilla de Almendra**| 5 - 30                       |\n",
        "| **Azúcar**                | 0 - 20                        |\n",
        "\n"
      ]
    },
    {
      "cell_type": "markdown",
      "metadata": {
        "id": "OfMnzqIG_CBb"
      },
      "source": [
        "## Variables\n",
        "\n",
        "- $v_1$: Cantidad de proteína de suero en la barra (en gramos)\n",
        "- $v_2$: Cantidad de avena en la barra (en gramos)\n",
        "- $v_3$: Cantidad de mantequilla de almendra en la barra (en gramos)\n",
        "- $v_4$: Cantidad de azúcar en la barra (en gramos)\n",
        "\n",
        "## Restricciones\n",
        "\n",
        "  - **Proteínas**: Al menos 20 gramos. Proteína >=20.\n",
        "  - **Carbohidratos**: Al menos 30 gramos. Carbohidratos >= 30.\n",
        "  - **Grasas**: Al menos 10 gramos. Grasas >=10.02.\n",
        "  - **Calorías**: Entre 250 y 350 kcal. 250 <= Calorías >= 350.\n",
        "\n",
        "\n",
        "## Función Objetivo\n",
        "\n",
        "- Minimizar el costo total de la barra:\n",
        "\n",
        "  $$\n",
        "  \\text{Costo Total} = 0.10v_1 + 0.02v_2 + 0.15v_3 + 0.01v_4\n",
        "  $$\n",
        "\n",
        "Donde:\n",
        "- $v_1$: Cantidad de proteína de suero en la barra (en gramos).\n",
        "- $v_2$: Cantidad de avena en la barra (en gramos).\n",
        "- $v_3$: Cantidad de mantequilla de almendra en la barra (en gramos).\n",
        "- $v_4$: Cantidad de azúcar en la barra (en gramos).\n",
        "\n",
        "## Función de Aptitud\n",
        "\n",
        "$$\n",
        "   \\text{Aptitud} = \\frac{1}{\\text{Costo Total} + \\text{Penalización}}\n",
        "$$\n",
        "\n",
        "Donde la penalización es una suma de las penalizaciones aplicadas por incumplir los requisitos nutricionales y el rango de calorías.\n",
        "\n",
        "- **Penalización por no cumplir los requerimientos**: Si la mezcla no cumple con alguno de los requisitos nutricionales, se aplica una penalización al costo total:\n",
        "     - Penalización por cada gramo de proteína faltante.\n",
        "     - Penalización por cada gramo de carbohidrato o grasa excedente o faltante.\n",
        "     - Penalización por cada caloría fuera del rango deseado.\n",
        "\n",
        "\n"
      ]
    },
    {
      "cell_type": "code",
      "execution_count": 1,
      "metadata": {
        "id": "RV0wDp1C9Jm8"
      },
      "outputs": [],
      "source": [
        "#!pip install pandas numpy gdown"
      ]
    },
    {
      "cell_type": "markdown",
      "metadata": {
        "id": "oWnSMchnA9CK"
      },
      "source": [
        "### 1. Importación de bibliotecas y lectura de datos\n",
        "\n",
        "- Primero, importamos las bibliotecas necesarias.\n",
        "- Leemos los datos desde un archivo Excel que contiene información sobre los ingredientes y los rangos de valores permitidos para cada ingrediente.\n",
        "- Extraemos la información sobre los ingredientes, costos, proteínas, carbohidratos, grasas y calorías.\n"
      ]
    },
    {
      "cell_type": "code",
      "execution_count": 2,
      "metadata": {
        "colab": {
          "base_uri": "https://localhost:8080/"
        },
        "id": "eo2DWRUq9V57",
        "outputId": "d4c71bb7-24f2-4cbe-ea4c-c78ebd56d6f1"
      },
      "outputs": [],
      "source": [
        "#import gdown\n",
        "import pandas as pd\n",
        "import numpy as np\n",
        "\n",
        "# URL del archivo en Google Drive\n",
        "# file_id = '15QuX1fliafQbrJApky6Z0SUIli0dxXo6'\n",
        "# url = f'https://drive.google.com/uc?id={file_id}'\n",
        "# filename = 'barra_nutricional.xlsx'\n",
        "\n",
        "# Archivo\n",
        "filename = 'barra_nutricional.xlsx'\n",
        "\n",
        "# Descargar el archivo\n",
        "# gdown.download(url, filename, quiet=False)\n",
        "\n",
        "# Leer datos desde el archivo descargado\n",
        "ingredientes_df = pd.read_excel(filename, sheet_name='ingredientes')\n",
        "rangos_df = pd.read_excel(filename, sheet_name='rangos')\n",
        "\n",
        "# Datos de ingredientes\n",
        "ingredientes = ingredientes_df['Ingrediente'].values\n",
        "precios = ingredientes_df['Costo'].values\n",
        "proteinas = ingredientes_df['Proteínas (g/100g)'].values\n",
        "carbohidratos = ingredientes_df['Carbohidratos (g/100g)'].values\n",
        "grasas = ingredientes_df['Grasas (g/100g)'].values\n",
        "calorias = ingredientes_df['Calorías (kcal/100g)'].values\n",
        "\n",
        "# Rangos\n",
        "rango_minimos = rangos_df['Min'].values\n",
        "rango_maximos = rangos_df['Max'].values"
      ]
    },
    {
      "cell_type": "code",
      "execution_count": 3,
      "metadata": {},
      "outputs": [
        {
          "data": {
            "text/html": [
              "<div>\n",
              "<style scoped>\n",
              "    .dataframe tbody tr th:only-of-type {\n",
              "        vertical-align: middle;\n",
              "    }\n",
              "\n",
              "    .dataframe tbody tr th {\n",
              "        vertical-align: top;\n",
              "    }\n",
              "\n",
              "    .dataframe thead th {\n",
              "        text-align: right;\n",
              "    }\n",
              "</style>\n",
              "<table border=\"1\" class=\"dataframe\">\n",
              "  <thead>\n",
              "    <tr style=\"text-align: right;\">\n",
              "      <th></th>\n",
              "      <th>Ingrediente</th>\n",
              "      <th>Costo</th>\n",
              "      <th>Proteínas (g/100g)</th>\n",
              "      <th>Carbohidratos (g/100g)</th>\n",
              "      <th>Grasas (g/100g)</th>\n",
              "      <th>Calorías (kcal/100g)</th>\n",
              "    </tr>\n",
              "  </thead>\n",
              "  <tbody>\n",
              "    <tr>\n",
              "      <th>0</th>\n",
              "      <td>Proteína de Suero</td>\n",
              "      <td>0.10</td>\n",
              "      <td>80</td>\n",
              "      <td>5</td>\n",
              "      <td>2</td>\n",
              "      <td>350</td>\n",
              "    </tr>\n",
              "    <tr>\n",
              "      <th>1</th>\n",
              "      <td>Avena</td>\n",
              "      <td>0.02</td>\n",
              "      <td>15</td>\n",
              "      <td>60</td>\n",
              "      <td>6</td>\n",
              "      <td>370</td>\n",
              "    </tr>\n",
              "    <tr>\n",
              "      <th>2</th>\n",
              "      <td>Mantequilla de Almendra</td>\n",
              "      <td>0.15</td>\n",
              "      <td>25</td>\n",
              "      <td>20</td>\n",
              "      <td>50</td>\n",
              "      <td>600</td>\n",
              "    </tr>\n",
              "    <tr>\n",
              "      <th>3</th>\n",
              "      <td>Azúcar</td>\n",
              "      <td>0.01</td>\n",
              "      <td>0</td>\n",
              "      <td>100</td>\n",
              "      <td>0</td>\n",
              "      <td>400</td>\n",
              "    </tr>\n",
              "  </tbody>\n",
              "</table>\n",
              "</div>"
            ],
            "text/plain": [
              "               Ingrediente  Costo  Proteínas (g/100g)  Carbohidratos (g/100g)  \\\n",
              "0        Proteína de Suero   0.10                  80                       5   \n",
              "1                    Avena   0.02                  15                      60   \n",
              "2  Mantequilla de Almendra   0.15                  25                      20   \n",
              "3                   Azúcar   0.01                   0                     100   \n",
              "\n",
              "   Grasas (g/100g)  Calorías (kcal/100g)  \n",
              "0                2                   350  \n",
              "1                6                   370  \n",
              "2               50                   600  \n",
              "3                0                   400  "
            ]
          },
          "execution_count": 3,
          "metadata": {},
          "output_type": "execute_result"
        }
      ],
      "source": [
        "ingredientes_df.head()"
      ]
    },
    {
      "cell_type": "code",
      "execution_count": 4,
      "metadata": {},
      "outputs": [
        {
          "data": {
            "text/html": [
              "<div>\n",
              "<style scoped>\n",
              "    .dataframe tbody tr th:only-of-type {\n",
              "        vertical-align: middle;\n",
              "    }\n",
              "\n",
              "    .dataframe tbody tr th {\n",
              "        vertical-align: top;\n",
              "    }\n",
              "\n",
              "    .dataframe thead th {\n",
              "        text-align: right;\n",
              "    }\n",
              "</style>\n",
              "<table border=\"1\" class=\"dataframe\">\n",
              "  <thead>\n",
              "    <tr style=\"text-align: right;\">\n",
              "      <th></th>\n",
              "      <th>Ingrediente</th>\n",
              "      <th>Min</th>\n",
              "      <th>Max</th>\n",
              "    </tr>\n",
              "  </thead>\n",
              "  <tbody>\n",
              "    <tr>\n",
              "      <th>0</th>\n",
              "      <td>Proteína de Suero</td>\n",
              "      <td>10</td>\n",
              "      <td>50</td>\n",
              "    </tr>\n",
              "    <tr>\n",
              "      <th>1</th>\n",
              "      <td>Avena</td>\n",
              "      <td>20</td>\n",
              "      <td>100</td>\n",
              "    </tr>\n",
              "    <tr>\n",
              "      <th>2</th>\n",
              "      <td>Mantequilla de Almendra</td>\n",
              "      <td>5</td>\n",
              "      <td>30</td>\n",
              "    </tr>\n",
              "    <tr>\n",
              "      <th>3</th>\n",
              "      <td>Azúcar</td>\n",
              "      <td>0</td>\n",
              "      <td>20</td>\n",
              "    </tr>\n",
              "  </tbody>\n",
              "</table>\n",
              "</div>"
            ],
            "text/plain": [
              "               Ingrediente  Min  Max\n",
              "0        Proteína de Suero   10   50\n",
              "1                    Avena   20  100\n",
              "2  Mantequilla de Almendra    5   30\n",
              "3                   Azúcar    0   20"
            ]
          },
          "execution_count": 4,
          "metadata": {},
          "output_type": "execute_result"
        }
      ],
      "source": [
        "rangos_df.head()"
      ]
    },
    {
      "cell_type": "markdown",
      "metadata": {
        "id": "v4NXAQMMq8y4"
      },
      "source": [
        "### 2. Definición de parámetros del algoritmo genético\n",
        "\n",
        "- Establecemos los parámetros básicos para el algoritmo genético, como el tamaño de la población, el número de generaciones, y las probabilidades de cruce y mutación.\n"
      ]
    },
    {
      "cell_type": "code",
      "execution_count": 5,
      "metadata": {
        "id": "id6EbT8gF3hr"
      },
      "outputs": [],
      "source": [
        "\n",
        "# Parámetros del algoritmo genético\n",
        "n_ingredientes = len(ingredientes)\n",
        "poblacion_size = 20\n",
        "generaciones = 100\n",
        "mutacion_prob = 0.2\n",
        "cruce_prob = 0.7"
      ]
    },
    {
      "cell_type": "markdown",
      "metadata": {
        "id": "GPTJ6lSnrD8C"
      },
      "source": [
        "### 3. Función de aptitud: Cálculo de la información nutricional y costo de producción\n",
        "\n",
        "- En esta parte necesitamos una función que calcule la cantidad total de proteínas, carbohidratos, grasas y calorías basadas en los valores del cromosoma.\n",
        "\n",
        "- El costo total según el gramaje de cada ingrediente.\n",
        "\n",
        "- Penalizaciones si el cromosoma no cumple con ciertos requisitos nutricionales y de calorías."
      ]
    },
    {
      "cell_type": "code",
      "execution_count": 6,
      "metadata": {
        "id": "9upi07Kvbar0"
      },
      "outputs": [],
      "source": [
        "# Información nutricional\n",
        "def calcular_nutricion(cromosoma):\n",
        "    cromosoma_cada_100 = cromosoma / 100\n",
        "    proteina_total = np.sum(cromosoma_cada_100 * proteinas)\n",
        "    carbohidrato_total = np.sum(cromosoma_cada_100 * carbohidratos)\n",
        "    grasa_total = np.sum(cromosoma_cada_100 * grasas)\n",
        "    calorias_total = np.sum(cromosoma_cada_100 * calorias)\n",
        "    return proteina_total, carbohidrato_total, grasa_total, calorias_total\n",
        "\n",
        "# Función de aptitud\n",
        "def calcular_aptitud(cromosoma):\n",
        "    proteina_total, carbohidrato_total, grasa_total, calorias_total = calcular_nutricion(cromosoma)\n",
        "\n",
        "    # Penalización\n",
        "    penalizacion_proteinas = max(0, 20 - proteina_total) if proteina_total < 20 else max(0, proteina_total)\n",
        "    penalizacion_carbohidratos = max(0, 30 - carbohidrato_total) if carbohidrato_total < 30 else max(0, carbohidrato_total)\n",
        "    penalizacion_grasas = max(0, 10 - grasa_total) if grasa_total < 10 else max(0, proteina_total)\n",
        "    penalizacion_calorias = max(0, 250 - calorias_total) if calorias_total < 250 else max(0, calorias_total - 350)\n",
        "\n",
        "    penalizacion_total = penalizacion_proteinas + penalizacion_carbohidratos + penalizacion_grasas + penalizacion_calorias\n",
        "    costo_total = np.sum(cromosoma * precios)\n",
        "    #print(costo_total, penalizacion_total)\n",
        "    aptitud = 1/ (costo_total + penalizacion_total)\n",
        "\n",
        "    return aptitud\n"
      ]
    },
    {
      "cell_type": "markdown",
      "metadata": {
        "id": "hIvQzEGor5Hm"
      },
      "source": [
        "### 5. Inicialización de la población\n",
        "\n",
        "- La función `inicializar_poblacion` crea una población inicial de soluciones (cromosomas) generando valores aleatorios dentro de los rangos permitidos para cada ingrediente.\n"
      ]
    },
    {
      "cell_type": "code",
      "execution_count": 7,
      "metadata": {
        "colab": {
          "base_uri": "https://localhost:8080/"
        },
        "id": "VGTP99GAr3xG",
        "outputId": "e4583312-9c8f-4698-9653-1847e004108b"
      },
      "outputs": [
        {
          "name": "stdout",
          "output_type": "stream",
          "text": [
            "[[45.62754891 32.83571182 19.26705241  0.35050024]\n",
            " [20.10108496 33.9652345  21.02730082 15.88904933]\n",
            " [15.04308651 32.04163718  5.43190919  6.43331184]\n",
            " [16.66738039 83.84416361 29.80203762  9.50103763]\n",
            " [36.61360294 58.66034756 12.48232989  4.07930574]\n",
            " [47.96943165 92.42346506  5.83348508  4.13125047]\n",
            " [26.38573205 90.34419148 24.81796837  3.20531991]\n",
            " [23.69539437 32.37911292 10.9324318   6.11718506]\n",
            " [36.17487578 35.2686222  10.92536974 12.11696291]\n",
            " [16.06917337 22.04842594  5.90225973  5.62652291]\n",
            " [34.22281133 70.98041525  6.01112329 14.70396063]\n",
            " [21.18383683 39.21587579  6.21280575 13.3050711 ]\n",
            " [20.76308423 87.14119404 24.55232951  2.26924546]\n",
            " [23.0003963  77.71188809 25.88724292  8.04160229]\n",
            " [25.50923731 69.71260018 23.46263755 16.86015976]\n",
            " [37.92360111 31.77956352 18.06950174 16.89641218]\n",
            " [23.11975079 73.44308681  6.29253153 17.56429473]\n",
            " [36.43536913 59.82574307  9.06453342 10.44915124]\n",
            " [47.00538467 86.2973163  10.90233957  8.66994737]\n",
            " [49.76432646 20.04656884 14.77230381 15.4888879 ]]\n"
          ]
        }
      ],
      "source": [
        "# Inicializar población\n",
        "def inicializar_poblacion(rangos_min, rangos_max, poblacion_size, n_ingredientes):\n",
        "    return np.random.uniform(rangos_min, rangos_max, (poblacion_size, n_ingredientes))\n",
        "\n",
        "poblacion_prueba = inicializar_poblacion(rango_minimos, rango_maximos, 20, n_ingredientes)\n",
        "print(poblacion_prueba)"
      ]
    },
    {
      "cell_type": "markdown",
      "metadata": {
        "id": "KMf_8m1AsEJB"
      },
      "source": [
        "### 6. Selección de Padres\n",
        "- Este proceso selecciona dos individuos de la población con probabilidades proporcionales a sus aptitudes. Así, los individuos \"mejores\" tienen más probabilidades de ser seleccionados como padres.\n"
      ]
    },
    {
      "cell_type": "code",
      "execution_count": 9,
      "metadata": {
        "id": "HE20ul-lcFkF"
      },
      "outputs": [],
      "source": [
        "# Selección de padres\n",
        "def seleccion(poblacion):\n",
        "    aptitudes = np.array([calcular_aptitud(ind) for ind in poblacion])\n",
        "    total_aptitud = np.sum(aptitudes)\n",
        "\n",
        "    # Evitar división por cero si todas las aptitudes son cero\n",
        "    if total_aptitud == 0:\n",
        "        probabilidades = np.ones(len(poblacion)) / len(poblacion)\n",
        "    else:\n",
        "        probabilidades = aptitudes / total_aptitud\n",
        "\n",
        "    # Selecciona dos individuos con probabilidad proporcional a su aptitud\n",
        "    indices = np.random.choice(len(poblacion), size=2, p=probabilidades)\n",
        "    return poblacion[indices],probabilidades\n"
      ]
    },
    {
      "cell_type": "code",
      "execution_count": 11,
      "metadata": {},
      "outputs": [
        {
          "data": {
            "text/plain": [
              "(array([[36.17487578, 35.2686222 , 10.92536974, 12.11696291],\n",
              "        [23.0003963 , 77.71188809, 25.88724292,  8.04160229]]),\n",
              " array([0.04078514, 0.04573489, 0.18941401, 0.01652678, 0.02839813,\n",
              "        0.01850357, 0.01587878, 0.18058892, 0.06034627, 0.08391072,\n",
              "        0.02648951, 0.0869246 , 0.01824447, 0.01791644, 0.01772323,\n",
              "        0.03045848, 0.02926434, 0.03226869, 0.01504903, 0.04557399]))"
            ]
          },
          "execution_count": 11,
          "metadata": {},
          "output_type": "execute_result"
        }
      ],
      "source": [
        "seleccion(poblacion=poblacion_prueba)"
      ]
    },
    {
      "cell_type": "markdown",
      "metadata": {
        "id": "SNRE7NYHsRSU"
      },
      "source": [
        "### 7. Cruce de Padres\n",
        "- Esta función implementa el cruce entre dos padres. Si se cumple la probabilidad de cruce, se intercambian segmentos de los padres para generar dos nuevos hijos."
      ]
    },
    {
      "cell_type": "code",
      "execution_count": 8,
      "metadata": {
        "id": "H5aiYuuYsRxY"
      },
      "outputs": [],
      "source": [
        "# Cruce de dos padres\n",
        "def cruce(padre1, padre2):\n",
        "    if np.random.rand() < cruce_prob:\n",
        "        punto_cruce = np.random.randint(1, n_ingredientes)\n",
        "        hijo1 = np.concatenate((padre1[:punto_cruce], padre2[punto_cruce:]))\n",
        "        hijo2 = np.concatenate((padre2[:punto_cruce], padre1[punto_cruce:]))\n",
        "        return hijo1, hijo2\n",
        "    else:\n",
        "        return padre1, padre2\n"
      ]
    },
    {
      "cell_type": "markdown",
      "metadata": {
        "id": "hW3mfqkaF2rA"
      },
      "source": [
        "### 8. Mutación\n",
        "- La mutación introduce variación en un individuo al modificar uno de sus genes. Luego, se asegura que el valor mutado se mantenga dentro de los rangos permitidos usando `np.clip`.\n"
      ]
    },
    {
      "cell_type": "code",
      "execution_count": 9,
      "metadata": {
        "id": "0Wgj1LnFscPU"
      },
      "outputs": [],
      "source": [
        "# Mutación\n",
        "def mutacion(individuo, rangos_min, rangos_max):\n",
        "    if np.random.rand() < mutacion_prob:\n",
        "        punto_mutacion = np.random.randint(n_ingredientes)\n",
        "        individuo[punto_mutacion] += np.random.standard_normal()\n",
        "    return np.clip(individuo, rangos_min, rangos_max)\n"
      ]
    },
    {
      "cell_type": "markdown",
      "metadata": {
        "id": "x-FzWAZAspcT"
      },
      "source": [
        "### 9. Algoritmo Genético completo\n",
        "\n",
        "- La población inicial se somete a un ciclo de generaciones, donde se seleccionan padres, se generan nuevos hijos mediante cruce y mutación, y se realiza un reemplazo parcial con la nueva población.\n",
        "- Después de cada generación, se selecciona el mejor individuo (la mejor solución) y se imprime su aptitud.\n"
      ]
    },
    {
      "cell_type": "code",
      "execution_count": 49,
      "metadata": {
        "colab": {
          "base_uri": "https://localhost:8080/"
        },
        "id": "huaujcuvsp4Q",
        "outputId": "fe79ef83-ea91-4391-cbad-8510695f4fea"
      },
      "outputs": [
        {
          "name": "stdout",
          "output_type": "stream",
          "text": [
            "Generación 1: Mejor aptitud = 0.026636546307339304, Mejor individuo = [15.7911099  33.64592733  9.08889038  7.88433092]\n",
            "Generación 2: Mejor aptitud = 0.03743806304841437, Mejor individuo = [13.82075801 23.45238967 18.05892081  9.57062855]\n",
            "Generación 3: Mejor aptitud = 0.03743806304841437, Mejor individuo = [13.82075801 23.45238967 18.05892081  9.57062855]\n",
            "Generación 4: Mejor aptitud = 0.0637014651230416, Mejor individuo = [15.7911099  33.64592733  5.36186907  7.88433092]\n",
            "Generación 5: Mejor aptitud = 0.0637014651230416, Mejor individuo = [15.7911099  33.64592733  5.36186907  7.88433092]\n",
            "Generación 6: Mejor aptitud = 0.0637014651230416, Mejor individuo = [15.7911099  33.64592733  5.36186907  7.88433092]\n",
            "Generación 7: Mejor aptitud = 0.0637014651230416, Mejor individuo = [15.7911099  33.64592733  5.36186907  7.88433092]\n",
            "Generación 8: Mejor aptitud = 0.0637014651230416, Mejor individuo = [15.7911099  33.64592733  5.36186907  7.88433092]\n",
            "Generación 9: Mejor aptitud = 0.06655326600929092, Mejor individuo = [15.94864326 33.64592733  5.36186907  7.88433092]\n",
            "Generación 10: Mejor aptitud = 0.07255426829054322, Mejor individuo = [16.23969056 33.64592733  5.36186907  7.88433092]\n",
            "Generación 11: Mejor aptitud = 0.07255426829054322, Mejor individuo = [16.23969056 33.64592733  5.36186907  7.88433092]\n",
            "Generación 12: Mejor aptitud = 0.0782605839028092, Mejor individuo = [16.47504471 33.64592733  5.36186907  7.88433092]\n",
            "Generación 13: Mejor aptitud = 0.0782605839028092, Mejor individuo = [16.47504471 33.64592733  5.36186907  7.88433092]\n",
            "Generación 14: Mejor aptitud = 0.0782605839028092, Mejor individuo = [16.47504471 33.64592733  5.36186907  7.88433092]\n",
            "Generación 15: Mejor aptitud = 0.0782605839028092, Mejor individuo = [16.47504471 33.64592733  5.36186907  7.88433092]\n",
            "Generación 16: Mejor aptitud = 0.0782605839028092, Mejor individuo = [16.47504471 33.64592733  5.36186907  7.88433092]\n",
            "Generación 17: Mejor aptitud = 0.08230193554880354, Mejor individuo = [16.62198661 33.64592733  5.36186907  7.88433092]\n",
            "Generación 18: Mejor aptitud = 0.08230193554880354, Mejor individuo = [16.62198661 33.64592733  5.36186907  7.88433092]\n",
            "Generación 19: Mejor aptitud = 0.08230193554880354, Mejor individuo = [16.62198661 33.64592733  5.36186907  7.88433092]\n",
            "Generación 20: Mejor aptitud = 0.09091746471595351, Mejor individuo = [16.8916343  33.64592733  5.36186907  7.88433092]\n",
            "Generación 21: Mejor aptitud = 0.09091746471595351, Mejor individuo = [16.8916343  33.64592733  5.36186907  7.88433092]\n",
            "Generación 22: Mejor aptitud = 0.09091746471595351, Mejor individuo = [16.8916343  33.64592733  5.36186907  7.88433092]\n",
            "Generación 23: Mejor aptitud = 0.09169869001995372, Mejor individuo = [16.91357942 33.64592733  5.36186907  7.88433092]\n",
            "Generación 24: Mejor aptitud = 0.09169869001995372, Mejor individuo = [16.91357942 33.64592733  5.36186907  7.88433092]\n",
            "Generación 25: Mejor aptitud = 0.09502317855023286, Mejor individuo = [17.00293142 33.64592733  5.36186907  7.88433092]\n",
            "Generación 26: Mejor aptitud = 0.09502317855023286, Mejor individuo = [17.00293142 33.64592733  5.36186907  7.88433092]\n",
            "Generación 27: Mejor aptitud = 0.09502317855023286, Mejor individuo = [17.00293142 33.64592733  5.36186907  7.88433092]\n",
            "Generación 28: Mejor aptitud = 0.09502317855023286, Mejor individuo = [17.00293142 33.64592733  5.36186907  7.88433092]\n",
            "Generación 29: Mejor aptitud = 0.09502317855023286, Mejor individuo = [17.00293142 33.64592733  5.36186907  7.88433092]\n",
            "Generación 30: Mejor aptitud = 0.09502317855023286, Mejor individuo = [17.00293142 33.64592733  5.36186907  7.88433092]\n",
            "Generación 31: Mejor aptitud = 0.09502317855023286, Mejor individuo = [17.00293142 33.64592733  5.36186907  7.88433092]\n",
            "Generación 32: Mejor aptitud = 0.09502317855023286, Mejor individuo = [17.00293142 33.64592733  5.36186907  7.88433092]\n",
            "Generación 33: Mejor aptitud = 0.09502317855023286, Mejor individuo = [17.00293142 33.64592733  5.36186907  7.88433092]\n",
            "Generación 34: Mejor aptitud = 0.09502317855023286, Mejor individuo = [17.00293142 33.64592733  5.36186907  7.88433092]\n",
            "Generación 35: Mejor aptitud = 0.09502317855023286, Mejor individuo = [17.00293142 33.64592733  5.36186907  7.88433092]\n",
            "Generación 36: Mejor aptitud = 0.09502317855023286, Mejor individuo = [17.00293142 33.64592733  5.36186907  7.88433092]\n",
            "Generación 37: Mejor aptitud = 0.09502317855023286, Mejor individuo = [17.00293142 33.64592733  5.36186907  7.88433092]\n",
            "Generación 38: Mejor aptitud = 0.09502317855023286, Mejor individuo = [17.00293142 33.64592733  5.36186907  7.88433092]\n",
            "Generación 39: Mejor aptitud = 0.09502317855023286, Mejor individuo = [17.00293142 33.64592733  5.36186907  7.88433092]\n",
            "Generación 40: Mejor aptitud = 0.09502317855023286, Mejor individuo = [17.00293142 33.64592733  5.36186907  7.88433092]\n",
            "Generación 41: Mejor aptitud = 0.09502317855023286, Mejor individuo = [17.00293142 33.64592733  5.36186907  7.88433092]\n",
            "Generación 42: Mejor aptitud = 0.09502317855023286, Mejor individuo = [17.00293142 33.64592733  5.36186907  7.88433092]\n",
            "Generación 43: Mejor aptitud = 0.09502317855023286, Mejor individuo = [17.00293142 33.64592733  5.36186907  7.88433092]\n",
            "Generación 44: Mejor aptitud = 0.09502317855023286, Mejor individuo = [17.00293142 33.64592733  5.36186907  7.88433092]\n",
            "Generación 45: Mejor aptitud = 0.09502317855023286, Mejor individuo = [17.00293142 33.64592733  5.36186907  7.88433092]\n",
            "Generación 46: Mejor aptitud = 0.09502317855023286, Mejor individuo = [17.00293142 33.64592733  5.36186907  7.88433092]\n",
            "Generación 47: Mejor aptitud = 0.09502317855023286, Mejor individuo = [17.00293142 33.64592733  5.36186907  7.88433092]\n",
            "Generación 48: Mejor aptitud = 0.09502317855023286, Mejor individuo = [17.00293142 33.64592733  5.36186907  7.88433092]\n",
            "Generación 49: Mejor aptitud = 0.09502317855023286, Mejor individuo = [17.00293142 33.64592733  5.36186907  7.88433092]\n",
            "Generación 50: Mejor aptitud = 0.09502317855023286, Mejor individuo = [17.00293142 33.64592733  5.36186907  7.88433092]\n",
            "Generación 51: Mejor aptitud = 0.09502317855023286, Mejor individuo = [17.00293142 33.64592733  5.36186907  7.88433092]\n",
            "Generación 52: Mejor aptitud = 0.09502317855023286, Mejor individuo = [17.00293142 33.64592733  5.36186907  7.88433092]\n",
            "Generación 53: Mejor aptitud = 0.09502317855023286, Mejor individuo = [17.00293142 33.64592733  5.36186907  7.88433092]\n",
            "Generación 54: Mejor aptitud = 0.09502317855023286, Mejor individuo = [17.00293142 33.64592733  5.36186907  7.88433092]\n",
            "Generación 55: Mejor aptitud = 0.09502317855023286, Mejor individuo = [17.00293142 33.64592733  5.36186907  7.88433092]\n",
            "Generación 56: Mejor aptitud = 0.09502317855023286, Mejor individuo = [17.00293142 33.64592733  5.36186907  7.88433092]\n",
            "Generación 57: Mejor aptitud = 0.09502317855023286, Mejor individuo = [17.00293142 33.64592733  5.36186907  7.88433092]\n",
            "Generación 58: Mejor aptitud = 0.09502317855023286, Mejor individuo = [17.00293142 33.64592733  5.36186907  7.88433092]\n",
            "Generación 59: Mejor aptitud = 0.09502317855023286, Mejor individuo = [17.00293142 33.64592733  5.36186907  7.88433092]\n",
            "Generación 60: Mejor aptitud = 0.09502317855023286, Mejor individuo = [17.00293142 33.64592733  5.36186907  7.88433092]\n",
            "Generación 61: Mejor aptitud = 0.09502317855023286, Mejor individuo = [17.00293142 33.64592733  5.36186907  7.88433092]\n",
            "Generación 62: Mejor aptitud = 0.09502317855023286, Mejor individuo = [17.00293142 33.64592733  5.36186907  7.88433092]\n",
            "Generación 63: Mejor aptitud = 0.09502317855023286, Mejor individuo = [17.00293142 33.64592733  5.36186907  7.88433092]\n",
            "Generación 64: Mejor aptitud = 0.09502317855023286, Mejor individuo = [17.00293142 33.64592733  5.36186907  7.88433092]\n",
            "Generación 65: Mejor aptitud = 0.09502317855023286, Mejor individuo = [17.00293142 33.64592733  5.36186907  7.88433092]\n",
            "Generación 66: Mejor aptitud = 0.09502317855023286, Mejor individuo = [17.00293142 33.64592733  5.36186907  7.88433092]\n",
            "Generación 67: Mejor aptitud = 0.09502317855023286, Mejor individuo = [17.00293142 33.64592733  5.36186907  7.88433092]\n",
            "Generación 68: Mejor aptitud = 0.09502317855023286, Mejor individuo = [17.00293142 33.64592733  5.36186907  7.88433092]\n",
            "Generación 69: Mejor aptitud = 0.09502317855023286, Mejor individuo = [17.00293142 33.64592733  5.36186907  7.88433092]\n",
            "Generación 70: Mejor aptitud = 0.09502317855023286, Mejor individuo = [17.00293142 33.64592733  5.36186907  7.88433092]\n",
            "Generación 71: Mejor aptitud = 0.09502317855023286, Mejor individuo = [17.00293142 33.64592733  5.36186907  7.88433092]\n",
            "Generación 72: Mejor aptitud = 0.09502317855023286, Mejor individuo = [17.00293142 33.64592733  5.36186907  7.88433092]\n",
            "Generación 73: Mejor aptitud = 0.09502317855023286, Mejor individuo = [17.00293142 33.64592733  5.36186907  7.88433092]\n",
            "Generación 74: Mejor aptitud = 0.09502317855023286, Mejor individuo = [17.00293142 33.64592733  5.36186907  7.88433092]\n",
            "Generación 75: Mejor aptitud = 0.09502317855023286, Mejor individuo = [17.00293142 33.64592733  5.36186907  7.88433092]\n",
            "Generación 76: Mejor aptitud = 0.09502317855023286, Mejor individuo = [17.00293142 33.64592733  5.36186907  7.88433092]\n",
            "Generación 77: Mejor aptitud = 0.09502317855023286, Mejor individuo = [17.00293142 33.64592733  5.36186907  7.88433092]\n",
            "Generación 78: Mejor aptitud = 0.09502317855023286, Mejor individuo = [17.00293142 33.64592733  5.36186907  7.88433092]\n",
            "Generación 79: Mejor aptitud = 0.09502317855023286, Mejor individuo = [17.00293142 33.64592733  5.36186907  7.88433092]\n",
            "Generación 80: Mejor aptitud = 0.09502317855023286, Mejor individuo = [17.00293142 33.64592733  5.36186907  7.88433092]\n",
            "Generación 81: Mejor aptitud = 0.09502317855023286, Mejor individuo = [17.00293142 33.64592733  5.36186907  7.88433092]\n",
            "Generación 82: Mejor aptitud = 0.09502317855023286, Mejor individuo = [17.00293142 33.64592733  5.36186907  7.88433092]\n",
            "Generación 83: Mejor aptitud = 0.09502317855023286, Mejor individuo = [17.00293142 33.64592733  5.36186907  7.88433092]\n",
            "Generación 84: Mejor aptitud = 0.09502317855023286, Mejor individuo = [17.00293142 33.64592733  5.36186907  7.88433092]\n",
            "Generación 85: Mejor aptitud = 0.09502317855023286, Mejor individuo = [17.00293142 33.64592733  5.36186907  7.88433092]\n",
            "Generación 86: Mejor aptitud = 0.09502317855023286, Mejor individuo = [17.00293142 33.64592733  5.36186907  7.88433092]\n",
            "Generación 87: Mejor aptitud = 0.09502317855023286, Mejor individuo = [17.00293142 33.64592733  5.36186907  7.88433092]\n",
            "Generación 88: Mejor aptitud = 0.09502317855023286, Mejor individuo = [17.00293142 33.64592733  5.36186907  7.88433092]\n",
            "Generación 89: Mejor aptitud = 0.09502317855023286, Mejor individuo = [17.00293142 33.64592733  5.36186907  7.88433092]\n",
            "Generación 90: Mejor aptitud = 0.09502317855023286, Mejor individuo = [17.00293142 33.64592733  5.36186907  7.88433092]\n",
            "Generación 91: Mejor aptitud = 0.09502317855023286, Mejor individuo = [17.00293142 33.64592733  5.36186907  7.88433092]\n",
            "Generación 92: Mejor aptitud = 0.09502317855023286, Mejor individuo = [17.00293142 33.64592733  5.36186907  7.88433092]\n",
            "Generación 93: Mejor aptitud = 0.09502317855023286, Mejor individuo = [17.00293142 33.64592733  5.36186907  7.88433092]\n",
            "Generación 94: Mejor aptitud = 0.09502317855023286, Mejor individuo = [17.00293142 33.64592733  5.36186907  7.88433092]\n",
            "Generación 95: Mejor aptitud = 0.09502317855023286, Mejor individuo = [17.00293142 33.64592733  5.36186907  7.88433092]\n",
            "Generación 96: Mejor aptitud = 0.09502317855023286, Mejor individuo = [17.00293142 33.64592733  5.36186907  7.88433092]\n",
            "Generación 97: Mejor aptitud = 0.09502317855023286, Mejor individuo = [17.00293142 33.64592733  5.36186907  7.88433092]\n",
            "Generación 98: Mejor aptitud = 0.09502317855023286, Mejor individuo = [17.00293142 33.64592733  5.36186907  7.88433092]\n",
            "Generación 99: Mejor aptitud = 0.09502317855023286, Mejor individuo = [17.00293142 33.64592733  5.36186907  7.88433092]\n",
            "Generación 100: Mejor aptitud = 0.09502317855023286, Mejor individuo = [17.00293142 33.64592733  5.36186907  7.88433092]\n",
            "Mejor solución encontrada:\n",
            "Proteína de Suero: 17.00 g\n",
            "Avena: 33.65 g\n",
            "Mantequilla de Almendra: 5.36 g\n",
            "Azúcar: 7.88 g\n",
            "\n",
            "Información nutricional:\n",
            "Proteínas: 19.99 g\n",
            "Carbohidratos: 29.99 g\n",
            "Grasas: 5.04 g\n",
            "Calorías: 247.71 kcal\n",
            "\n",
            "Costo total: $3.26\n"
          ]
        }
      ],
      "source": [
        "# Algoritmo genético\n",
        "def algoritmo_genetico():\n",
        "    poblacion = inicializar_poblacion(rango_minimos, rango_maximos, poblacion_size, n_ingredientes) #Crear una población.\n",
        "    for generacion in range(generaciones): #Iteración de n generaciones\n",
        "        nueva_poblacion = [] \n",
        "        for _ in range(poblacion_size // 2): #Creación de una nueva población iterando la mitad del tamaño de la población original.\n",
        "            padre1, padre2 = seleccion(poblacion)\n",
        "            hijo1, hijo2 = cruce(padre1, padre2)\n",
        "            nueva_poblacion.append(mutacion(hijo1, rango_minimos, rango_maximos))\n",
        "            nueva_poblacion.append(mutacion(hijo2, rango_minimos, rango_maximos))\n",
        "        nueva_poblacion = np.asarray(nueva_poblacion)\n",
        "        # Reemplazo parcial: seleccionar la mitad mejor de la población actual\n",
        "        mitad_poblacion_actual = np.argsort([calcular_aptitud(ind) for ind in poblacion])[::-1][:poblacion_size // 2]\n",
        "        poblacion = np.concatenate((poblacion[mitad_poblacion_actual],\n",
        "                                   nueva_poblacion)) #Mi nueva población obtenido a partir del reemplazo elitista.\n",
        "        mejor_individuo = poblacion[np.argmax([calcular_aptitud(ind) for ind in poblacion])]\n",
        "        mejor_aptitud = calcular_aptitud(mejor_individuo)\n",
        "        print(f'Generación {generacion + 1}: Mejor aptitud = {mejor_aptitud}, Mejor individuo = {mejor_individuo}')\n",
        "\n",
        "    return mejor_individuo\n",
        "\n",
        "# Ejecutar el algoritmo genético\n",
        "mejor_solucion = algoritmo_genetico()\n",
        "\n",
        "print('Mejor solución encontrada:')\n",
        "for i, cantidad in enumerate(mejor_solucion):\n",
        "    print(f'{ingredientes[i]}: {cantidad:.2f} g')\n",
        "\n",
        "print('\\nInformación nutricional:')\n",
        "proteina_total, carbohidrato_total, grasa_total, calorias_total = calcular_nutricion(mejor_solucion)\n",
        "print(f'Proteínas: {proteina_total:.2f} g')\n",
        "print(f'Carbohidratos: {carbohidrato_total:.2f} g')\n",
        "print(f'Grasas: {grasa_total:.2f} g')\n",
        "print(f'Calorías: {calorias_total:.2f} kcal')\n",
        "\n",
        "costo_total = np.sum(mejor_solucion * precios)\n",
        "print(f'\\nCosto total: ${costo_total:.2f}')\n"
      ]
    },
    {
      "cell_type": "code",
      "execution_count": null,
      "metadata": {},
      "outputs": [],
      "source": []
    }
  ],
  "metadata": {
    "colab": {
      "provenance": []
    },
    "kernelspec": {
      "display_name": "Python 3",
      "name": "python3"
    },
    "language_info": {
      "codemirror_mode": {
        "name": "ipython",
        "version": 3
      },
      "file_extension": ".py",
      "mimetype": "text/x-python",
      "name": "python",
      "nbconvert_exporter": "python",
      "pygments_lexer": "ipython3",
      "version": "3.11.8"
    }
  },
  "nbformat": 4,
  "nbformat_minor": 0
}
