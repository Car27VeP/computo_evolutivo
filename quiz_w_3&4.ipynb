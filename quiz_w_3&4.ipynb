{
 "cells": [
  {
   "cell_type": "markdown",
   "metadata": {},
   "source": [
    "# Quiz Pregunta 3\n",
    "\n",
    "En nuestro caso de estudio, hemos seleccionado los siguientes individuos para realizar un cruce lineal:\n",
    "\n",
    "- $p_1 = [16.71, 76.30, 18.18, 0.92]$\n",
    "- $p_2 = [44.21, 64.32, 19.48, 15.01]$\n",
    "\n",
    "¿Cuáles serán los valores de los hijos $c_1, c_2$ y $c_2$ después de aplicar el cruce?"
   ]
  },
  {
   "cell_type": "markdown",
   "metadata": {},
   "source": [
    "## Solución\n",
    "$c_1 = 0.5p_1 + 0.5p_2$\\\n",
    "$c_2 = 1.5p_1 + 0.5p_2$\\\n",
    "$c_3 = -0.5p_1 + 1.5p_2$"
   ]
  },
  {
   "cell_type": "code",
   "execution_count": 1,
   "metadata": {},
   "outputs": [],
   "source": [
    "import numpy as np"
   ]
  },
  {
   "cell_type": "code",
   "execution_count": 2,
   "metadata": {},
   "outputs": [],
   "source": [
    "p1 = np.array([16.71, 76.30, 18.18, 0.92])\n",
    "p2 = np.array([44.21, 64.32, 19.48, 15.01])"
   ]
  },
  {
   "cell_type": "code",
   "execution_count": 3,
   "metadata": {},
   "outputs": [],
   "source": [
    "def calcular_c1(p1,p2):\n",
    "    return (p1+p2).dot(0.5)\n",
    "\n",
    "def calcular_c2(p1,p2):\n",
    "    return p1.dot(1.5) - p2.dot(0.5)\n",
    "\n",
    "def calcuar_c3(p1,p2):\n",
    "    return p1.dot(-0.5) + p2.dot(1.5)\n",
    "\n",
    "# Función para verificar si un descendiente es válido\n",
    "def es_descendiente_valido(descendiente, min_vals, max_vals):\n",
    "    return np.all((descendiente >= min_vals) & (descendiente <= max_vals))"
   ]
  },
  {
   "cell_type": "code",
   "execution_count": 4,
   "metadata": {},
   "outputs": [
    {
     "name": "stdout",
     "output_type": "stream",
     "text": [
      "C1:[30.46  70.31  18.83   7.965]\n",
      "\n",
      "C2:[ 2.96  82.29  17.53  -6.125]\n",
      "\n",
      "C3:[57.96  58.33  20.13  22.055]\n"
     ]
    }
   ],
   "source": [
    "c1=calcular_c1(p1,p2)\n",
    "c2=calcular_c2(p1,p2)\n",
    "c3=calcuar_c3(p1,p2)\n",
    "\n",
    "print(f\"C1:{c1}\")\n",
    "print(f\"\\nC2:{c2}\")\n",
    "print(f\"\\nC3:{c3}\")"
   ]
  },
  {
   "cell_type": "markdown",
   "metadata": {},
   "source": [
    "# Quiz Pregunta 4.\n",
    "\n",
    "A partir de los resultados anteriores, ¿Quiénes serán los descendientes?"
   ]
  },
  {
   "cell_type": "code",
   "execution_count": 5,
   "metadata": {},
   "outputs": [],
   "source": [
    "# Determinamos el rango mínimo y máximo para cada gen\n",
    "min_vals = np.minimum(p1, p2)\n",
    "max_vals = np.maximum(p1, p2)\n",
    "descendientes = []\n",
    "poblacion = np.array([c1,c2,c3])\n",
    "\n",
    "for i in range(len(poblacion)):\n",
    "    if es_descendiente_valido(poblacion[i],min_vals,max_vals):\n",
    "        descendientes.append(poblacion[i])"
   ]
  },
  {
   "cell_type": "code",
   "execution_count": 8,
   "metadata": {},
   "outputs": [
    {
     "name": "stdout",
     "output_type": "stream",
     "text": [
      "Los descendientes son: [array([30.46 , 70.31 , 18.83 ,  7.965])] porque todos los valores se encuentran dentro del rango.\n"
     ]
    }
   ],
   "source": [
    "print(f\"Los descendientes son: {descendientes} porque todos los valores se encuentran dentro del rango.\")"
   ]
  },
  {
   "cell_type": "code",
   "execution_count": null,
   "metadata": {},
   "outputs": [],
   "source": []
  }
 ],
 "metadata": {
  "kernelspec": {
   "display_name": "Python 3",
   "language": "python",
   "name": "python3"
  },
  "language_info": {
   "codemirror_mode": {
    "name": "ipython",
    "version": 3
   },
   "file_extension": ".py",
   "mimetype": "text/x-python",
   "name": "python",
   "nbconvert_exporter": "python",
   "pygments_lexer": "ipython3",
   "version": "3.11.8"
  }
 },
 "nbformat": 4,
 "nbformat_minor": 2
}
